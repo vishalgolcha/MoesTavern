{
 "cells": [
  {
   "cell_type": "markdown",
   "metadata": {
    "deletable": true,
    "editable": true
   },
   "source": [
    "# TV Script Generation\n",
    "In this project, you'll generate your own [Simpsons](https://en.wikipedia.org/wiki/The_Simpsons) TV scripts using RNNs.  You'll be using part of the [Simpsons dataset](https://www.kaggle.com/wcukierski/the-simpsons-by-the-data) of scripts from 27 seasons.  The Neural Network you'll build will generate a new TV script for a scene at [Moe's Tavern](https://simpsonswiki.com/wiki/Moe's_Tavern).\n",
    "## Get the Data\n",
    "The data is already provided for you.  You'll be using a subset of the original dataset.  It consists of only the scenes in Moe's Tavern.  This doesn't include other versions of the tavern, like \"Moe's Cavern\", \"Flaming Moe's\", \"Uncle Moe's Family Feed-Bag\", etc.."
   ]
  },
  {
   "cell_type": "code",
   "execution_count": 25,
   "metadata": {
    "collapsed": false,
    "deletable": true,
    "editable": true
   },
   "outputs": [],
   "source": [
    "\"\"\"\n",
    "DON'T MODIFY ANYTHING IN THIS CELL\n",
    "\"\"\"\n",
    "import helper\n",
    "\n",
    "data_dir = './data/simpsons/moes_tavern_lines.txt'\n",
    "text = helper.load_data(data_dir)\n",
    "# Ignore notice, since we don't use it for analysing the data\n",
    "text = text[81:]"
   ]
  },
  {
   "cell_type": "markdown",
   "metadata": {
    "deletable": true,
    "editable": true
   },
   "source": [
    "## Explore the Data\n",
    "Play around with `view_sentence_range` to view different parts of the data."
   ]
  },
  {
   "cell_type": "code",
   "execution_count": 26,
   "metadata": {
    "collapsed": false,
    "deletable": true,
    "editable": true
   },
   "outputs": [
    {
     "name": "stdout",
     "output_type": "stream",
     "text": [
      "Dataset Stats\n",
      "Roughly the number of unique words: 11492\n",
      "Number of scenes: 262\n",
      "Average number of sentences in each scene: 15.2519083969\n",
      "Number of lines: 4258\n",
      "Average number of words in each line: 11.5016439643\n",
      "()\n",
      "The sentences 0 to 10:\n",
      "\n",
      "Moe_Szyslak: (INTO PHONE) Moe's Tavern. Where the elite meet to drink.\n",
      "Bart_Simpson: Eh, yeah, hello, is Mike there? Last name, Rotch.\n",
      "Moe_Szyslak: (INTO PHONE) Hold on, I'll check. (TO BARFLIES) Mike Rotch. Mike Rotch. Hey, has anybody seen Mike Rotch, lately?\n",
      "Moe_Szyslak: (INTO PHONE) Listen you little puke. One of these days I'm gonna catch you, and I'm gonna carve my name on your back with an ice pick.\n",
      "Moe_Szyslak: What's the matter Homer? You're not your normal effervescent self.\n",
      "Homer_Simpson: I got my problems, Moe. Give me another one.\n",
      "Moe_Szyslak: Homer, hey, you should not drink to forget your problems.\n",
      "Barney_Gumble: Yeah, you should only drink to enhance your social skills.\n",
      "\n"
     ]
    }
   ],
   "source": [
    "view_sentence_range = (0, 10)\n",
    "\n",
    "\"\"\"\n",
    "DON'T MODIFY ANYTHING IN THIS CELL\n",
    "\"\"\"\n",
    "import numpy as np\n",
    "\n",
    "print('Dataset Stats')\n",
    "print('Roughly the number of unique words: {}'.format(len({word: None for word in text.split()})))\n",
    "scenes = text.split('\\n\\n')\n",
    "print('Number of scenes: {}'.format(len(scenes)))\n",
    "sentence_count_scene = [scene.count('\\n') for scene in scenes]\n",
    "print('Average number of sentences in each scene: {}'.format(np.average(sentence_count_scene)))\n",
    "\n",
    "sentences = [sentence for scene in scenes for sentence in scene.split('\\n')]\n",
    "print('Number of lines: {}'.format(len(sentences)))\n",
    "word_count_sentence = [len(sentence.split()) for sentence in sentences]\n",
    "print('Average number of words in each line: {}'.format(np.average(word_count_sentence)))\n",
    "\n",
    "print()\n",
    "print('The sentences {} to {}:'.format(*view_sentence_range))\n",
    "print('\\n'.join(text.split('\\n')[view_sentence_range[0]:view_sentence_range[1]]))"
   ]
  },
  {
   "cell_type": "markdown",
   "metadata": {
    "deletable": true,
    "editable": true
   },
   "source": [
    "## Implement Preprocessing Functions\n",
    "The first thing to do to any dataset is preprocessing.  Implement the following preprocessing functions below:\n",
    "- Lookup Table\n",
    "- Tokenize Punctuation\n",
    "\n",
    "### Lookup Table\n",
    "To create a word embedding, you first need to transform the words to ids.  In this function, create two dictionaries:\n",
    "- Dictionary to go from the words to an id, we'll call `vocab_to_int`\n",
    "- Dictionary to go from the id to word, we'll call `int_to_vocab`\n",
    "\n",
    "Return these dictionaries in the following tuple `(vocab_to_int, int_to_vocab)`"
   ]
  },
  {
   "cell_type": "code",
   "execution_count": 27,
   "metadata": {
    "collapsed": false,
    "deletable": true,
    "editable": true
   },
   "outputs": [
    {
     "name": "stdout",
     "output_type": "stream",
     "text": [
      "Tests Passed\n"
     ]
    }
   ],
   "source": [
    "import numpy as np\n",
    "import problem_unittests as tests\n",
    "\n",
    "def create_lookup_tables(text):\n",
    "\n",
    "    # TODO: Implement Function\n",
    "    #vci vocab to int\n",
    "    #itv int to vocab\n",
    "    vocab_to_int,int_to_vocab ={},{}\n",
    "    for i,word in enumerate(list(set(text))):\n",
    "        vocab_to_int[word]=i;\n",
    "        int_to_vocab[i]=word;\n",
    "    return vocab_to_int,int_to_vocab\n",
    "    \n",
    "tests.test_create_lookup_tables(create_lookup_tables)"
   ]
  },
  {
   "cell_type": "raw",
   "metadata": {
    "deletable": true,
    "editable": true
   },
   "source": [
    "### Tokenize Punctuation\n",
    "We'll be splitting the script into a word array using spaces as delimiters.  However, punctuations like periods and exclamation marks make it hard for the neural network to distinguish between the word \"bye\" and \"bye!\".\n",
    "\n",
    "Implement the function `token_lookup` to return a dict that will be used to tokenize symbols like \"!\" into \"||Exclamation_Mark||\".  Create a dictionary for the following symbols where the symbol is the key and value is the token:\n",
    "- Period ( . )\n",
    "- Comma ( , )\n",
    "- Quotation Mark ( \" )\n",
    "- Semicolon ( ; )\n",
    "- Exclamation mark ( ! )\n",
    "- Question mark ( ? )\n",
    "- Left Parentheses ( ( )\n",
    "- Right Parentheses ( ) )\n",
    "- Dash ( -- )\n",
    "- Return ( \\n )\n",
    "\n",
    "This dictionary will be used to token the symbols and add the delimiter (space) around it.  This separates the symbols as it's own word, making it easier for the neural network to predict on the next word. Make sure you don't use a token that could be confused as a word. Instead of using the token \"dash\", try using something like \"||dash||\"."
   ]
  },
  {
   "cell_type": "code",
   "execution_count": 28,
   "metadata": {
    "collapsed": false,
    "deletable": true,
    "editable": true
   },
   "outputs": [
    {
     "name": "stdout",
     "output_type": "stream",
     "text": [
      "Tests Passed\n"
     ]
    }
   ],
   "source": [
    "def token_lookup():\n",
    "    \"\"\"\n",
    "    Generate a dict to turn punctuation into a token.\n",
    "    :return: Tokenize dictionary where the key is the punctuation and the value is the token\n",
    "    \"\"\"\n",
    "    lookup = {\".\": \"||period||\", \\\n",
    "             \",\": \"||comma||\", \\\n",
    "             '\"': \"||quotation_mark||\", \\\n",
    "             \";\": \"||semicolon||\", \\\n",
    "             \"!\": \"||exclamation_mark||\", \\\n",
    "             \"?\": \"||question_mark||\", \\\n",
    "             \"(\": \"||l_parenthesis||\", \\\n",
    "             \")\": \"||r_parenthesis||\", \\\n",
    "             \"--\": \"||dash||\", \\\n",
    "             \"\\n\": \"||return||\"}\n",
    "    \n",
    "    return lookup    \n",
    "\n",
    "\"\"\"\n",
    "DON'T MODIFY ANYTHING IN THIS CELL THAT IS BELOW THIS LINE\n",
    "\"\"\"\n",
    "tests.test_tokenize(token_lookup)"
   ]
  },
  {
   "cell_type": "markdown",
   "metadata": {
    "deletable": true,
    "editable": true
   },
   "source": [
    "## Preprocess all the data and save it\n",
    "Running the code cell below will preprocess all the data and save it to file."
   ]
  },
  {
   "cell_type": "code",
   "execution_count": 29,
   "metadata": {
    "collapsed": false,
    "deletable": true,
    "editable": true
   },
   "outputs": [],
   "source": [
    "\"\"\"\n",
    "DON'T MODIFY ANYTHING IN THIS CELL\n",
    "\"\"\"\n",
    "# Preprocess Training, Validation, and Testing Data\n",
    "helper.preprocess_and_save_data(data_dir, token_lookup, create_lookup_tables)"
   ]
  },
  {
   "cell_type": "markdown",
   "metadata": {
    "deletable": true,
    "editable": true
   },
   "source": [
    "# Check Point\n",
    "This is your first checkpoint. If you ever decide to come back to this notebook or have to restart the notebook, you can start from here. The preprocessed data has been saved to disk."
   ]
  },
  {
   "cell_type": "code",
   "execution_count": 30,
   "metadata": {
    "collapsed": false,
    "deletable": true,
    "editable": true
   },
   "outputs": [],
   "source": [
    "\"\"\"\n",
    "DON'T MODIFY ANYTHING IN THIS CELL\n",
    "\"\"\"\n",
    "import helper\n",
    "import numpy as np\n",
    "import problem_unittests as tests\n",
    "\n",
    "int_text, vocab_to_int, int_to_vocab, token_dict = helper.load_preprocess()"
   ]
  },
  {
   "cell_type": "markdown",
   "metadata": {
    "deletable": true,
    "editable": true
   },
   "source": [
    "## Build the Neural Network\n",
    "You'll build the components necessary to build a RNN by implementing the following functions below:\n",
    "- get_inputs\n",
    "- get_init_cell\n",
    "- get_embed\n",
    "- build_rnn\n",
    "- build_nn\n",
    "- get_batches\n",
    "\n",
    "### Check the Version of TensorFlow and Access to GPU"
   ]
  },
  {
   "cell_type": "code",
   "execution_count": 31,
   "metadata": {
    "collapsed": false
   },
   "outputs": [
    {
     "name": "stdout",
     "output_type": "stream",
     "text": [
      "TensorFlow Version: 1.0.0\n"
     ]
    },
    {
     "name": "stderr",
     "output_type": "stream",
     "text": [
      "/home/v_g/miniconda2/lib/python2.7/site-packages/ipykernel/__main__.py:14: UserWarning: No GPU found. Please use a GPU to train your neural network.\n"
     ]
    }
   ],
   "source": [
    "\"\"\"\n",
    "DON'T MODIFY ANYTHING IN THIS CELL\n",
    "\"\"\"\n",
    "from distutils.version import LooseVersion\n",
    "import warnings\n",
    "import tensorflow as tf\n",
    "\n",
    "# Check TensorFlow Version\n",
    "assert LooseVersion(tf.__version__) >= LooseVersion('1.0'), 'Please use TensorFlow version 1.0 or newer'\n",
    "print('TensorFlow Version: {}'.format(tf.__version__))\n",
    "\n",
    "# Check for a GPU\n",
    "if not tf.test.gpu_device_name():\n",
    "    warnings.warn('No GPU found. Please use a GPU to train your neural network.')\n",
    "else:\n",
    "    print('Default GPU Device: {}'.format(tf.test.gpu_device_name()))"
   ]
  },
  {
   "cell_type": "markdown",
   "metadata": {},
   "source": [
    "### Input\n",
    "Implement the `get_inputs()` function to create TF Placeholders for the Neural Network.  It should create the following placeholders:\n",
    "- Input text placeholder named \"input\" using the [TF Placeholder](https://www.tensorflow.org/api_docs/python/tf/placeholder) `name` parameter.\n",
    "- Targets placeholder\n",
    "- Learning Rate placeholder\n",
    "\n",
    "Return the placeholders in the following tuple `(Input, Targets, LearningRate)`"
   ]
  },
  {
   "cell_type": "code",
   "execution_count": 32,
   "metadata": {
    "collapsed": false,
    "deletable": true,
    "editable": true
   },
   "outputs": [
    {
     "name": "stdout",
     "output_type": "stream",
     "text": [
      "Tests Passed\n"
     ]
    }
   ],
   "source": [
    "def get_inputs():\n",
    "    \"\"\"\n",
    "    Create TF Placeholders for input, targets, and learning rate.\n",
    "    :return: Tuple (input, targets, learning rate)\n",
    "    \"\"\"\n",
    "    # TODO: Implement Function\n",
    "    inp = tf.placeholder(tf.int32,shape=(None,None),name=\"input\");\n",
    "    trg = tf.placeholder(tf.int32,shape=(None,None),name=\"targets\");\n",
    "    learning_rate= tf.placeholder(tf.float32,name=\"learning_rate\");\n",
    "    return inp,trg, learning_rate\n",
    "\n",
    "\n",
    "\"\"\"\n",
    "DON'T MODIFY ANYTHING IN THIS CELL THAT IS BELOW THIS LINE\n",
    "\"\"\"\n",
    "tests.test_get_inputs(get_inputs)"
   ]
  },
  {
   "cell_type": "markdown",
   "metadata": {
    "deletable": true,
    "editable": true
   },
   "source": [
    "### Build RNN Cell and Initialize\n",
    "Stack one or more [`BasicLSTMCells`](https://www.tensorflow.org/api_docs/python/tf/contrib/rnn/BasicLSTMCell) in a [`MultiRNNCell`](https://www.tensorflow.org/api_docs/python/tf/contrib/rnn/MultiRNNCell).\n",
    "- The Rnn size should be set using `rnn_size`\n",
    "- Initalize Cell State using the MultiRNNCell's [`zero_state()`](https://www.tensorflow.org/api_docs/python/tf/contrib/rnn/MultiRNNCell#zero_state) function\n",
    "    - Apply the name \"initial_state\" to the initial state using [`tf.identity()`](https://www.tensorflow.org/api_docs/python/tf/identity)\n",
    "\n",
    "Return the cell and initial state in the following tuple `(Cell, InitialState)`"
   ]
  },
  {
   "cell_type": "code",
   "execution_count": 33,
   "metadata": {
    "collapsed": false,
    "deletable": true,
    "editable": true
   },
   "outputs": [
    {
     "name": "stdout",
     "output_type": "stream",
     "text": [
      "Tests Passed\n"
     ]
    }
   ],
   "source": [
    "def get_init_cell(batch_size, rnn_size):\n",
    "    \"\"\"\n",
    "    Create an RNN Cell and initialize it.\n",
    "    :param batch_size: Size of batches\n",
    "    :param rnn_size: Size of RNNs\n",
    "    :return: Tuple (cell, initialize state)\n",
    "    \"\"\"\n",
    "    # TODO: Implement Function\n",
    "    cell = tf.contrib.rnn.BasicLSTMCell(rnn_size);\n",
    "    rnn_cell = tf.contrib.rnn.MultiRNNCell([cell]*4);\n",
    "    initial_state= tf.identity(rnn_cell.zero_state(batch_size,tf.float32),\"initial_state\");\n",
    "    return rnn_cell, initial_state\n",
    "\n",
    "\n",
    "\"\"\"\n",
    "DON'T MODIFY ANYTHING IN THIS CELL THAT IS BELOW THIS LINE\n",
    "\"\"\"\n",
    "tests.test_get_init_cell(get_init_cell)"
   ]
  },
  {
   "cell_type": "markdown",
   "metadata": {
    "deletable": true,
    "editable": true
   },
   "source": [
    "### Word Embedding\n",
    "Apply embedding to `input_data` using TensorFlow.  Return the embedded sequence."
   ]
  },
  {
   "cell_type": "code",
   "execution_count": 34,
   "metadata": {
    "collapsed": false,
    "deletable": true,
    "editable": true
   },
   "outputs": [
    {
     "name": "stdout",
     "output_type": "stream",
     "text": [
      "Tests Passed\n"
     ]
    }
   ],
   "source": [
    "def get_embed(input_data, vocab_size, embed_dim):\n",
    "    \"\"\"\n",
    "    Create embedding for <input_data>.\n",
    "    :param input_data: TF placeholder for text input.\n",
    "    :param vocab_size: Number of words in vocabulary.\n",
    "    :param embed_dim: Number of embedding dimensions\n",
    "    :return: Embedded input.\n",
    "    \"\"\"\n",
    "    embeddings = tf.Variable(tf.random_uniform([vocab_size,embed_dim],-1.0,1.0));\n",
    "    embedded= tf.nn.embedding_lookup(embeddings,input_data);\n",
    "    return embedded\n",
    "\n",
    "\n",
    "\"\"\"\n",
    "DON'T MODIFY ANYTHING IN THIS CELL THAT IS BELOW THIS LINE\n",
    "\"\"\"\n",
    "tests.test_get_embed(get_embed)"
   ]
  },
  {
   "cell_type": "markdown",
   "metadata": {
    "deletable": true,
    "editable": true
   },
   "source": [
    "### Build RNN\n",
    "You created a RNN Cell in the `get_init_cell()` function.  Time to use the cell to create a RNN.\n",
    "- Build the RNN using the [`tf.nn.dynamic_rnn()`](https://www.tensorflow.org/api_docs/python/tf/nn/dynamic_rnn)\n",
    " - Apply the name \"final_state\" to the final state using [`tf.identity()`](https://www.tensorflow.org/api_docs/python/tf/identity)\n",
    "\n",
    "Return the outputs and final_state state in the following tuple `(Outputs, FinalState)` "
   ]
  },
  {
   "cell_type": "code",
   "execution_count": 35,
   "metadata": {
    "collapsed": false,
    "deletable": true,
    "editable": true
   },
   "outputs": [
    {
     "name": "stdout",
     "output_type": "stream",
     "text": [
      "Tests Passed\n"
     ]
    }
   ],
   "source": [
    "def build_rnn(cell, inputs):\n",
    "    \"\"\"\n",
    "    Create a RNN using a RNN Cell\n",
    "    :param cell: RNN Cell\n",
    "    :param inputs: Input text data\n",
    "    :return: Tuple (Outputs, Final State)\n",
    "    \"\"\"\n",
    "    # TODO: Implement Function\n",
    "    output,state = tf.nn.dynamic_rnn(cell,inputs,dtype=tf.float32);\n",
    "    state=tf.identity(state,\"final_state\");\n",
    "    return output,state \n",
    "\n",
    "\n",
    "\"\"\"\n",
    "DON'T MODIFY ANYTHING IN THIS CELL THAT IS BELOW THIS LINE\n",
    "\"\"\"\n",
    "tests.test_build_rnn(build_rnn)"
   ]
  },
  {
   "cell_type": "markdown",
   "metadata": {
    "deletable": true,
    "editable": true
   },
   "source": [
    "### Build the Neural Network\n",
    "Apply the functions you implemented above to:\n",
    "- Apply embedding to `input_data` using your `get_embed(input_data, vocab_size, embed_dim)` function.\n",
    "- Build RNN using `cell` and your `build_rnn(cell, inputs)` function.\n",
    "- Apply a fully connected layer with a linear activation and `vocab_size` as the number of outputs.\n",
    "\n",
    "Return the logits and final state in the following tuple (Logits, FinalState) "
   ]
  },
  {
   "cell_type": "code",
   "execution_count": 36,
   "metadata": {
    "collapsed": false,
    "deletable": true,
    "editable": true
   },
   "outputs": [
    {
     "name": "stdout",
     "output_type": "stream",
     "text": [
      "Tests Passed\n"
     ]
    }
   ],
   "source": [
    "def build_nn(cell, rnn_size, input_data, vocab_size, embed_dim):\n",
    "    \"\"\"\n",
    "    Build part of the neural network\n",
    "    :param cell: RNN cell\n",
    "    :param rnn_size: Size of rnns\n",
    "    :param input_data: Input data\n",
    "    :param vocab_size: Vocabulary size\n",
    "    :param embed_dim: Number of embedding dimensions\n",
    "    :return: Tuple (Logits, FinalState)\n",
    "    \"\"\"\n",
    "    inputs = get_embed(input_data,vocab_size,200);\n",
    "    net,state = build_rnn(cell,inputs);\n",
    "    net =tf.layers.dense(net,vocab_size);\n",
    "    \n",
    "#  something to remember : \n",
    "#     tf.contrib.fully_connected adds a few functionalities on \n",
    "#    top of dense, in particular the possibility to pass a normalization \n",
    "#     and an activation in the parameters, à la Keras.\n",
    "    \n",
    "    return net,state\n",
    "\n",
    "\n",
    "\"\"\"\n",
    "DON'T MODIFY ANYTHING IN THIS CELL THAT IS BELOW THIS LINE\n",
    "\"\"\"\n",
    "\n",
    "tests.test_build_nn(build_nn)"
   ]
  },
  {
   "cell_type": "markdown",
   "metadata": {
    "deletable": true,
    "editable": true
   },
   "source": [
    "### Batches\n",
    "Implement `get_batches` to create batches of input and targets using `int_text`.  The batches should be a Numpy array with the shape `(number of batches, 2, batch size, sequence length)`. Each batch contains two elements:\n",
    "- The first element is a single batch of **input** with the shape `[batch size, sequence length]`\n",
    "- The second element is a single batch of **targets** with the shape `[batch size, sequence length]`\n",
    "\n",
    "If you can't fill the last batch with enough data, drop the last batch.\n",
    "\n",
    "For exmple, `get_batches([1, 2, 3, 4, 5, 6, 7, 8, 9, 10, 11, 12, 13, 14, 15, 16, 17, 18, 19, 20], 3, 2)` would return a Numpy array of the following:\n",
    "```\n",
    "[\n",
    "  # First Batch\n",
    "  [\n",
    "    # Batch of Input\n",
    "    [[ 1  2], [ 7  8], [13 14]]\n",
    "    # Batch of targets\n",
    "    [[ 2  3], [ 8  9], [14 15]]\n",
    "  ]\n",
    "\n",
    "  # Second Batch\n",
    "  [\n",
    "    # Batch of Input\n",
    "    [[ 3  4], [ 9 10], [15 16]]\n",
    "    # Batch of targets\n",
    "    [[ 4  5], [10 11], [16 17]]\n",
    "  ]\n",
    "\n",
    "  # Third Batch\n",
    "  [\n",
    "    # Batch of Input\n",
    "    [[ 5  6], [11 12], [17 18]]\n",
    "    # Batch of targets\n",
    "    [[ 6  7], [12 13], [18  1]]\n",
    "  ]\n",
    "]\n",
    "```\n",
    "\n",
    "Notice that the last target value in the last batch is the first input value of the first batch. In this case, `1`. This is a common technique used when creating sequence batches, although it is rather unintuitive."
   ]
  },
  {
   "cell_type": "code",
   "execution_count": 47,
   "metadata": {
    "collapsed": false,
    "deletable": true,
    "editable": true
   },
   "outputs": [
    {
     "name": "stdout",
     "output_type": "stream",
     "text": [
      "Tests Passed\n"
     ]
    }
   ],
   "source": [
    "def get_batches(int_text, batch_size, seq_length):\n",
    "    \"\"\"\n",
    "    Return batches of input and target\n",
    "    :param int_text: Text with the words replaced by their ids\n",
    "    :param batch_size: The size of batch\n",
    "    :param seq_length: The length of sequence\n",
    "    :return: Batches as a Numpy array\n",
    "    \"\"\"\n",
    "    # TODO: Implement Function\n",
    "    n_batches = len(int_text)//(batch_size * seq_length)\n",
    "    new_len = n_batches * (batch_size * seq_length)\n",
    "    inputs = int_text[:new_len]\n",
    "\n",
    "    targets = int_text[1:new_len+1]\n",
    "    \n",
    "    targets[-1]=inputs[0]\n",
    "    inputs_batches = np.split(np.reshape(inputs, (batch_size, -1)), n_batches, 1)\n",
    "    targets_batches = np.split(np.reshape(targets, (batch_size, -1)), n_batches, 1)\n",
    "    \n",
    "        \n",
    "    return np.array(list(zip(inputs_batches, targets_batches)))\n",
    "\n",
    "\n",
    "\n",
    "\"\"\"\n",
    "DON'T MODIFY ANYTHING IN THIS CELL THAT IS BELOW THIS LINE\n",
    "\"\"\"\n",
    "tests.test_get_batches(get_batches)"
   ]
  },
  {
   "cell_type": "markdown",
   "metadata": {
    "deletable": true,
    "editable": true
   },
   "source": [
    "## Neural Network Training\n",
    "### Hyperparameters\n",
    "Tune the following parameters:\n",
    "\n",
    "- Set `num_epochs` to the number of epochs.\n",
    "- Set `batch_size` to the batch size.\n",
    "- Set `rnn_size` to the size of the RNNs.\n",
    "- Set `embed_dim` to the size of the embedding.\n",
    "- Set `seq_length` to the length of sequence.\n",
    "- Set `learning_rate` to the learning rate.\n",
    "- Set `show_every_n_batches` to the number of batches the neural network should print progress."
   ]
  },
  {
   "cell_type": "code",
   "execution_count": 48,
   "metadata": {
    "collapsed": true,
    "deletable": true,
    "editable": true
   },
   "outputs": [],
   "source": [
    "# Number of Epochs\n",
    "num_epochs = 200\n",
    "# Batch Size\n",
    "batch_size = 50\n",
    "# RNN Size\n",
    "rnn_size = 256\n",
    "# Embedding Dimension Size\n",
    "embed_dim =300\n",
    "# Sequence Length\n",
    "seq_length = 25\n",
    "# Learning Rate\n",
    "learning_rate = 0.004\n",
    "# Show stats for every n number of batches\n",
    "show_every_n_batches = 50\n",
    "\n",
    "\"\"\"\n",
    "DON'T MODIFY ANYTHING IN THIS CELL THAT IS BELOW THIS LINE\n",
    "\"\"\"\n",
    "save_dir = './save'"
   ]
  },
  {
   "cell_type": "markdown",
   "metadata": {
    "deletable": true,
    "editable": true
   },
   "source": [
    "### Build the Graph\n",
    "Build the graph using the neural network you implemented."
   ]
  },
  {
   "cell_type": "code",
   "execution_count": 49,
   "metadata": {
    "collapsed": false,
    "deletable": true,
    "editable": true
   },
   "outputs": [],
   "source": [
    "\"\"\"\n",
    "DON'T MODIFY ANYTHING IN THIS CELL\n",
    "\"\"\"\n",
    "from tensorflow.contrib import seq2seq\n",
    "\n",
    "train_graph = tf.Graph()\n",
    "with train_graph.as_default():\n",
    "    vocab_size = len(int_to_vocab)\n",
    "    input_text, targets, lr = get_inputs()\n",
    "    input_data_shape = tf.shape(input_text)\n",
    "    cell, initial_state = get_init_cell(input_data_shape[0], rnn_size)\n",
    "    logits, final_state = build_nn(cell, rnn_size, input_text, vocab_size, embed_dim)\n",
    "\n",
    "    # Probabilities for generating words\n",
    "    probs = tf.nn.softmax(logits, name='probs')\n",
    "\n",
    "    # Loss function\n",
    "    cost = seq2seq.sequence_loss(\n",
    "        logits,\n",
    "        targets,\n",
    "        tf.ones([input_data_shape[0], input_data_shape[1]]))\n",
    "\n",
    "    # Optimizer\n",
    "    optimizer = tf.train.AdamOptimizer(lr)\n",
    "\n",
    "    # Gradient Clipping\n",
    "    gradients = optimizer.compute_gradients(cost)\n",
    "    capped_gradients = [(tf.clip_by_value(grad, -1., 1.), var) for grad, var in gradients if grad is not None]\n",
    "    train_op = optimizer.apply_gradients(capped_gradients)"
   ]
  },
  {
   "cell_type": "markdown",
   "metadata": {
    "deletable": true,
    "editable": true
   },
   "source": [
    "## Train\n",
    "Train the neural network on the preprocessed data.  If you have a hard time getting a good loss, check the [forms](https://discussions.udacity.com/) to see if anyone is having the same problem."
   ]
  },
  {
   "cell_type": "code",
   "execution_count": 50,
   "metadata": {
    "collapsed": false,
    "deletable": true,
    "editable": true
   },
   "outputs": [
    {
     "name": "stdout",
     "output_type": "stream",
     "text": [
      "Epoch   0 Batch    0/55   train_loss = 8.822\n",
      "Epoch   0 Batch   50/55   train_loss = 6.363\n",
      "Epoch   1 Batch   45/55   train_loss = 6.320\n",
      "Epoch   2 Batch   40/55   train_loss = 6.432\n",
      "Epoch   3 Batch   35/55   train_loss = 6.318\n",
      "Epoch   4 Batch   30/55   train_loss = 6.169\n",
      "Epoch   5 Batch   25/55   train_loss = 6.281\n",
      "Epoch   6 Batch   20/55   train_loss = 6.218\n",
      "Epoch   7 Batch   15/55   train_loss = 6.082\n",
      "Epoch   8 Batch   10/55   train_loss = 6.009\n",
      "Epoch   9 Batch    5/55   train_loss = 6.043\n",
      "Epoch  10 Batch    0/55   train_loss = 6.063\n",
      "Epoch  10 Batch   50/55   train_loss = 5.915\n",
      "Epoch  11 Batch   45/55   train_loss = 5.994\n",
      "Epoch  12 Batch   40/55   train_loss = 5.797\n",
      "Epoch  13 Batch   35/55   train_loss = 5.349\n",
      "Epoch  14 Batch   30/55   train_loss = 5.024\n",
      "Epoch  15 Batch   25/55   train_loss = 4.794\n",
      "Epoch  16 Batch   20/55   train_loss = 4.947\n",
      "Epoch  17 Batch   15/55   train_loss = 4.602\n",
      "Epoch  18 Batch   10/55   train_loss = 4.531\n",
      "Epoch  19 Batch    5/55   train_loss = 4.461\n",
      "Epoch  20 Batch    0/55   train_loss = 4.461\n",
      "Epoch  20 Batch   50/55   train_loss = 4.267\n",
      "Epoch  21 Batch   45/55   train_loss = 4.264\n",
      "Epoch  22 Batch   40/55   train_loss = 4.307\n",
      "Epoch  23 Batch   35/55   train_loss = 4.140\n",
      "Epoch  24 Batch   30/55   train_loss = 4.008\n",
      "Epoch  25 Batch   25/55   train_loss = 3.859\n",
      "Epoch  26 Batch   20/55   train_loss = 3.949\n",
      "Epoch  27 Batch   15/55   train_loss = 3.695\n",
      "Epoch  28 Batch   10/55   train_loss = 3.658\n",
      "Epoch  29 Batch    5/55   train_loss = 3.536\n",
      "Epoch  30 Batch    0/55   train_loss = 3.528\n",
      "Epoch  30 Batch   50/55   train_loss = 3.308\n",
      "Epoch  31 Batch   45/55   train_loss = 3.282\n",
      "Epoch  32 Batch   40/55   train_loss = 3.330\n",
      "Epoch  33 Batch   35/55   train_loss = 3.203\n",
      "Epoch  34 Batch   30/55   train_loss = 3.083\n",
      "Epoch  35 Batch   25/55   train_loss = 2.882\n",
      "Epoch  36 Batch   20/55   train_loss = 3.009\n",
      "Epoch  37 Batch   15/55   train_loss = 2.915\n",
      "Epoch  38 Batch   10/55   train_loss = 2.848\n",
      "Epoch  39 Batch    5/55   train_loss = 2.710\n",
      "Epoch  40 Batch    0/55   train_loss = 2.615\n",
      "Epoch  40 Batch   50/55   train_loss = 2.582\n",
      "Epoch  41 Batch   45/55   train_loss = 2.462\n",
      "Epoch  42 Batch   40/55   train_loss = 2.588\n",
      "Epoch  43 Batch   35/55   train_loss = 2.381\n",
      "Epoch  44 Batch   30/55   train_loss = 2.497\n",
      "Epoch  45 Batch   25/55   train_loss = 2.304\n",
      "Epoch  46 Batch   20/55   train_loss = 2.361\n",
      "Epoch  47 Batch   15/55   train_loss = 2.320\n",
      "Epoch  48 Batch   10/55   train_loss = 2.232\n",
      "Epoch  49 Batch    5/55   train_loss = 2.045\n",
      "Epoch  50 Batch    0/55   train_loss = 1.985\n",
      "Epoch  50 Batch   50/55   train_loss = 1.926\n",
      "Epoch  51 Batch   45/55   train_loss = 1.742\n",
      "Epoch  52 Batch   40/55   train_loss = 1.846\n",
      "Epoch  53 Batch   35/55   train_loss = 1.774\n",
      "Epoch  54 Batch   30/55   train_loss = 1.821\n",
      "Epoch  55 Batch   25/55   train_loss = 1.678\n",
      "Epoch  56 Batch   20/55   train_loss = 1.754\n",
      "Epoch  57 Batch   15/55   train_loss = 1.830\n",
      "Epoch  58 Batch   10/55   train_loss = 1.699\n",
      "Epoch  59 Batch    5/55   train_loss = 1.639\n",
      "Epoch  60 Batch    0/55   train_loss = 1.620\n",
      "Epoch  60 Batch   50/55   train_loss = 1.566\n",
      "Epoch  61 Batch   45/55   train_loss = 1.414\n",
      "Epoch  62 Batch   40/55   train_loss = 1.391\n",
      "Epoch  63 Batch   35/55   train_loss = 1.379\n",
      "Epoch  64 Batch   30/55   train_loss = 1.460\n",
      "Epoch  65 Batch   25/55   train_loss = 1.239\n",
      "Epoch  66 Batch   20/55   train_loss = 1.255\n",
      "Epoch  67 Batch   15/55   train_loss = 1.309\n",
      "Epoch  68 Batch   10/55   train_loss = 1.276\n",
      "Epoch  69 Batch    5/55   train_loss = 1.181\n",
      "Epoch  70 Batch    0/55   train_loss = 1.114\n",
      "Epoch  70 Batch   50/55   train_loss = 1.084\n",
      "Epoch  71 Batch   45/55   train_loss = 1.014\n",
      "Epoch  72 Batch   40/55   train_loss = 1.018\n",
      "Epoch  73 Batch   35/55   train_loss = 0.987\n",
      "Epoch  74 Batch   30/55   train_loss = 1.054\n",
      "Epoch  75 Batch   25/55   train_loss = 0.972\n",
      "Epoch  76 Batch   20/55   train_loss = 0.924\n",
      "Epoch  77 Batch   15/55   train_loss = 1.018\n",
      "Epoch  78 Batch   10/55   train_loss = 0.935\n",
      "Epoch  79 Batch    5/55   train_loss = 0.956\n",
      "Epoch  80 Batch    0/55   train_loss = 0.846\n",
      "Epoch  80 Batch   50/55   train_loss = 0.919\n",
      "Epoch  81 Batch   45/55   train_loss = 0.836\n",
      "Epoch  82 Batch   40/55   train_loss = 0.876\n",
      "Epoch  83 Batch   35/55   train_loss = 0.831\n",
      "Epoch  84 Batch   30/55   train_loss = 0.888\n",
      "Epoch  85 Batch   25/55   train_loss = 0.765\n",
      "Epoch  86 Batch   20/55   train_loss = 0.671\n",
      "Epoch  87 Batch   15/55   train_loss = 0.730\n",
      "Epoch  88 Batch   10/55   train_loss = 0.733\n",
      "Epoch  89 Batch    5/55   train_loss = 0.639\n",
      "Epoch  90 Batch    0/55   train_loss = 0.600\n",
      "Epoch  90 Batch   50/55   train_loss = 0.586\n",
      "Epoch  91 Batch   45/55   train_loss = 0.556\n",
      "Epoch  92 Batch   40/55   train_loss = 0.524\n",
      "Epoch  93 Batch   35/55   train_loss = 0.572\n",
      "Epoch  94 Batch   30/55   train_loss = 0.606\n",
      "Epoch  95 Batch   25/55   train_loss = 0.524\n",
      "Epoch  96 Batch   20/55   train_loss = 0.479\n",
      "Epoch  97 Batch   15/55   train_loss = 0.530\n",
      "Epoch  98 Batch   10/55   train_loss = 0.565\n",
      "Epoch  99 Batch    5/55   train_loss = 0.471\n",
      "Epoch 100 Batch    0/55   train_loss = 0.442\n",
      "Epoch 100 Batch   50/55   train_loss = 0.464\n",
      "Epoch 101 Batch   45/55   train_loss = 0.455\n",
      "Epoch 102 Batch   40/55   train_loss = 0.428\n",
      "Epoch 103 Batch   35/55   train_loss = 0.457\n",
      "Epoch 104 Batch   30/55   train_loss = 0.533\n",
      "Epoch 105 Batch   25/55   train_loss = 0.460\n",
      "Epoch 106 Batch   20/55   train_loss = 0.506\n",
      "Epoch 107 Batch   15/55   train_loss = 0.523\n",
      "Epoch 108 Batch   10/55   train_loss = 0.463\n",
      "Epoch 109 Batch    5/55   train_loss = 0.431\n",
      "Epoch 110 Batch    0/55   train_loss = 0.396\n",
      "Epoch 110 Batch   50/55   train_loss = 0.378\n",
      "Epoch 111 Batch   45/55   train_loss = 0.397\n",
      "Epoch 112 Batch   40/55   train_loss = 0.363\n",
      "Epoch 113 Batch   35/55   train_loss = 0.342\n",
      "Epoch 114 Batch   30/55   train_loss = 0.381\n",
      "Epoch 115 Batch   25/55   train_loss = 0.343\n",
      "Epoch 116 Batch   20/55   train_loss = 0.312\n",
      "Epoch 117 Batch   15/55   train_loss = 0.345\n",
      "Epoch 118 Batch   10/55   train_loss = 0.318\n",
      "Epoch 119 Batch    5/55   train_loss = 0.274\n",
      "Epoch 120 Batch    0/55   train_loss = 0.285\n",
      "Epoch 120 Batch   50/55   train_loss = 0.318\n",
      "Epoch 121 Batch   45/55   train_loss = 0.313\n",
      "Epoch 122 Batch   40/55   train_loss = 0.314\n",
      "Epoch 123 Batch   35/55   train_loss = 0.293\n",
      "Epoch 124 Batch   30/55   train_loss = 0.325\n",
      "Epoch 125 Batch   25/55   train_loss = 0.294\n",
      "Epoch 126 Batch   20/55   train_loss = 0.260\n",
      "Epoch 127 Batch   15/55   train_loss = 0.274\n",
      "Epoch 128 Batch   10/55   train_loss = 0.288\n",
      "Epoch 129 Batch    5/55   train_loss = 0.260\n",
      "Epoch 130 Batch    0/55   train_loss = 0.259\n",
      "Epoch 130 Batch   50/55   train_loss = 0.248\n",
      "Epoch 131 Batch   45/55   train_loss = 0.229\n",
      "Epoch 132 Batch   40/55   train_loss = 0.258\n",
      "Epoch 133 Batch   35/55   train_loss = 0.227\n",
      "Epoch 134 Batch   30/55   train_loss = 0.266\n",
      "Epoch 135 Batch   25/55   train_loss = 0.225\n",
      "Epoch 136 Batch   20/55   train_loss = 0.187\n",
      "Epoch 137 Batch   15/55   train_loss = 0.222\n",
      "Epoch 138 Batch   10/55   train_loss = 0.177\n",
      "Epoch 139 Batch    5/55   train_loss = 0.178\n",
      "Epoch 140 Batch    0/55   train_loss = 0.180\n",
      "Epoch 140 Batch   50/55   train_loss = 0.179\n",
      "Epoch 141 Batch   45/55   train_loss = 0.177\n",
      "Epoch 142 Batch   40/55   train_loss = 0.187\n",
      "Epoch 143 Batch   35/55   train_loss = 0.175\n",
      "Epoch 144 Batch   30/55   train_loss = 0.190\n",
      "Epoch 145 Batch   25/55   train_loss = 0.158\n",
      "Epoch 146 Batch   20/55   train_loss = 0.144\n",
      "Epoch 147 Batch   15/55   train_loss = 0.169\n",
      "Epoch 148 Batch   10/55   train_loss = 0.142\n",
      "Epoch 149 Batch    5/55   train_loss = 0.134\n",
      "Epoch 150 Batch    0/55   train_loss = 0.153\n",
      "Epoch 150 Batch   50/55   train_loss = 0.151\n",
      "Epoch 151 Batch   45/55   train_loss = 0.139\n",
      "Epoch 152 Batch   40/55   train_loss = 0.128\n",
      "Epoch 153 Batch   35/55   train_loss = 0.145\n",
      "Epoch 154 Batch   30/55   train_loss = 0.173\n",
      "Epoch 155 Batch   25/55   train_loss = 0.154\n",
      "Epoch 156 Batch   20/55   train_loss = 0.138\n",
      "Epoch 157 Batch   15/55   train_loss = 0.155\n",
      "Epoch 158 Batch   10/55   train_loss = 0.157\n",
      "Epoch 159 Batch    5/55   train_loss = 0.282\n",
      "Epoch 160 Batch    0/55   train_loss = 1.156\n",
      "Epoch 160 Batch   50/55   train_loss = 2.221\n",
      "Epoch 161 Batch   45/55   train_loss = 1.948\n",
      "Epoch 162 Batch   40/55   train_loss = 1.633\n",
      "Epoch 163 Batch   35/55   train_loss = 1.215\n",
      "Epoch 164 Batch   30/55   train_loss = 0.976\n",
      "Epoch 165 Batch   25/55   train_loss = 0.783\n",
      "Epoch 166 Batch   20/55   train_loss = 0.614\n",
      "Epoch 167 Batch   15/55   train_loss = 0.473\n",
      "Epoch 168 Batch   10/55   train_loss = 0.411\n",
      "Epoch 169 Batch    5/55   train_loss = 0.338\n",
      "Epoch 170 Batch    0/55   train_loss = 0.261\n",
      "Epoch 170 Batch   50/55   train_loss = 0.247\n",
      "Epoch 171 Batch   45/55   train_loss = 0.207\n",
      "Epoch 172 Batch   40/55   train_loss = 0.177\n",
      "Epoch 173 Batch   35/55   train_loss = 0.197\n",
      "Epoch 174 Batch   30/55   train_loss = 0.203\n",
      "Epoch 175 Batch   25/55   train_loss = 0.169\n",
      "Epoch 176 Batch   20/55   train_loss = 0.144\n",
      "Epoch 177 Batch   15/55   train_loss = 0.163\n",
      "Epoch 178 Batch   10/55   train_loss = 0.144\n",
      "Epoch 179 Batch    5/55   train_loss = 0.136\n",
      "Epoch 180 Batch    0/55   train_loss = 0.154\n",
      "Epoch 180 Batch   50/55   train_loss = 0.138\n",
      "Epoch 181 Batch   45/55   train_loss = 0.137\n",
      "Epoch 182 Batch   40/55   train_loss = 0.123\n",
      "Epoch 183 Batch   35/55   train_loss = 0.142\n",
      "Epoch 184 Batch   30/55   train_loss = 0.166\n",
      "Epoch 185 Batch   25/55   train_loss = 0.142\n",
      "Epoch 186 Batch   20/55   train_loss = 0.122\n",
      "Epoch 187 Batch   15/55   train_loss = 0.145\n",
      "Epoch 188 Batch   10/55   train_loss = 0.125\n",
      "Epoch 189 Batch    5/55   train_loss = 0.121\n",
      "Epoch 190 Batch    0/55   train_loss = 0.141\n",
      "Epoch 190 Batch   50/55   train_loss = 0.128\n",
      "Epoch 191 Batch   45/55   train_loss = 0.129\n",
      "Epoch 192 Batch   40/55   train_loss = 0.115\n",
      "Epoch 193 Batch   35/55   train_loss = 0.131\n",
      "Epoch 194 Batch   30/55   train_loss = 0.154\n",
      "Epoch 195 Batch   25/55   train_loss = 0.137\n",
      "Epoch 196 Batch   20/55   train_loss = 0.115\n",
      "Epoch 197 Batch   15/55   train_loss = 0.139\n",
      "Epoch 198 Batch   10/55   train_loss = 0.117\n",
      "Epoch 199 Batch    5/55   train_loss = 0.117\n",
      "Model Trained and Saved\n"
     ]
    }
   ],
   "source": [
    "\"\"\"\n",
    "DON'T MODIFY ANYTHING IN THIS CELL\n",
    "\"\"\"\n",
    "batches = get_batches(int_text, batch_size, seq_length)\n",
    "\n",
    "with tf.Session(graph=train_graph) as sess:\n",
    "    sess.run(tf.global_variables_initializer())\n",
    "\n",
    "    for epoch_i in range(num_epochs):\n",
    "        state = sess.run(initial_state, {input_text: batches[0][0]})\n",
    "\n",
    "        for batch_i, (x, y) in enumerate(batches):\n",
    "            feed = {\n",
    "                input_text: x,\n",
    "                targets: y,\n",
    "                initial_state: state,\n",
    "                lr: learning_rate}\n",
    "            train_loss, state, _ = sess.run([cost, final_state, train_op], feed)\n",
    "\n",
    "            # Show every <show_every_n_batches> batches\n",
    "            if (epoch_i * len(batches) + batch_i) % show_every_n_batches == 0:\n",
    "                print('Epoch {:>3} Batch {:>4}/{}   train_loss = {:.3f}'.format(\n",
    "                    epoch_i,\n",
    "                    batch_i,\n",
    "                    len(batches),\n",
    "                    train_loss))\n",
    "\n",
    "    # Save Model\n",
    "    saver = tf.train.Saver()\n",
    "    saver.save(sess, save_dir)\n",
    "    print('Model Trained and Saved')"
   ]
  },
  {
   "cell_type": "markdown",
   "metadata": {
    "deletable": true,
    "editable": true
   },
   "source": [
    "## Save Parameters\n",
    "Save `seq_length` and `save_dir` for generating a new TV script."
   ]
  },
  {
   "cell_type": "code",
   "execution_count": 51,
   "metadata": {
    "collapsed": false,
    "deletable": true,
    "editable": true
   },
   "outputs": [],
   "source": [
    "\"\"\"\n",
    "DON'T MODIFY ANYTHING IN THIS CELL\n",
    "\"\"\"\n",
    "# Save parameters for checkpoint\n",
    "helper.save_params((seq_length, save_dir))"
   ]
  },
  {
   "cell_type": "markdown",
   "metadata": {
    "deletable": true,
    "editable": true
   },
   "source": [
    "# Checkpoint"
   ]
  },
  {
   "cell_type": "code",
   "execution_count": 52,
   "metadata": {
    "collapsed": false,
    "deletable": true,
    "editable": true
   },
   "outputs": [],
   "source": [
    "\"\"\"\n",
    "DON'T MODIFY ANYTHING IN THIS CELL\n",
    "\"\"\"\n",
    "import tensorflow as tf\n",
    "import numpy as np\n",
    "import helper\n",
    "import problem_unittests as tests\n",
    "\n",
    "_, vocab_to_int, int_to_vocab, token_dict = helper.load_preprocess()\n",
    "seq_length, load_dir = helper.load_params()"
   ]
  },
  {
   "cell_type": "markdown",
   "metadata": {
    "deletable": true,
    "editable": true
   },
   "source": [
    "## Implement Generate Functions\n",
    "### Get Tensors\n",
    "Get tensors from `loaded_graph` using the function [`get_tensor_by_name()`](https://www.tensorflow.org/api_docs/python/tf/Graph#get_tensor_by_name).  Get the tensors using the following names:\n",
    "- \"input:0\"\n",
    "- \"initial_state:0\"\n",
    "- \"final_state:0\"\n",
    "- \"probs:0\"\n",
    "\n",
    "Return the tensors in the following tuple `(InputTensor, InitialStateTensor, FinalStateTensor, ProbsTensor)` "
   ]
  },
  {
   "cell_type": "code",
   "execution_count": 53,
   "metadata": {
    "collapsed": false,
    "deletable": true,
    "editable": true
   },
   "outputs": [
    {
     "name": "stdout",
     "output_type": "stream",
     "text": [
      "Tests Passed\n"
     ]
    }
   ],
   "source": [
    "def get_tensors(loaded_graph):\n",
    "    \"\"\"\n",
    "    Get input, initial state, final state, and probabilities tensor from <loaded_graph>\n",
    "    :param loaded_graph: TensorFlow graph loaded from file\n",
    "    :return: Tuple (InputTensor, InitialStateTensor, FinalStateTensor, ProbsTensor)\n",
    "    \"\"\"\n",
    "    # TODO: Implement Function\n",
    "    inputs = loaded_graph.get_tensor_by_name(\"input:0\")\n",
    "    initial_state = loaded_graph.get_tensor_by_name(\"initial_state:0\")\n",
    "    final_state = loaded_graph.get_tensor_by_name(\"final_state:0\")\n",
    "    probs = loaded_graph.get_tensor_by_name(\"probs:0\")\n",
    "    return inputs, initial_state, final_state, probs\n",
    "\n",
    "\n",
    "\"\"\"\n",
    "DON'T MODIFY ANYTHING IN THIS CELL THAT IS BELOW THIS LINE\n",
    "\"\"\"\n",
    "tests.test_get_tensors(get_tensors)"
   ]
  },
  {
   "cell_type": "markdown",
   "metadata": {
    "deletable": true,
    "editable": true
   },
   "source": [
    "### Choose Word\n",
    "Implement the `pick_word()` function to select the next word using `probabilities`."
   ]
  },
  {
   "cell_type": "code",
   "execution_count": 54,
   "metadata": {
    "collapsed": false,
    "deletable": true,
    "editable": true
   },
   "outputs": [
    {
     "name": "stdout",
     "output_type": "stream",
     "text": [
      "Tests Passed\n"
     ]
    }
   ],
   "source": [
    "def pick_word(probabilities, int_to_vocab):\n",
    "    \"\"\"\n",
    "    Pick the next word in the generated text\n",
    "    :param probabilities: Probabilites of the next word\n",
    "    :param int_to_vocab: Dictionary of word ids as the keys and words as the values\n",
    "    :return: String of the predicted word\n",
    "    \"\"\"\n",
    "    # TODO: Implement Function\n",
    "    return int_to_vocab[np.argmax(probabilities)]\n",
    "\n",
    "\"\"\"\n",
    "DON'T MODIFY ANYTHING IN THIS CELL THAT IS BELOW THIS LINE\n",
    "\"\"\"\n",
    "tests.test_pick_word(pick_word)"
   ]
  },
  {
   "cell_type": "markdown",
   "metadata": {
    "deletable": true,
    "editable": true
   },
   "source": [
    "## Generate TV Script\n",
    "This will generate the TV script for you.  Set `gen_length` to the length of TV script you want to generate."
   ]
  },
  {
   "cell_type": "code",
   "execution_count": 55,
   "metadata": {
    "collapsed": false,
    "deletable": true,
    "editable": true
   },
   "outputs": [
    {
     "name": "stdout",
     "output_type": "stream",
     "text": [
      "moe_szyslak:(sighs) yeah, i guess i got caught up in all the glitz and glamour.\n",
      "homer_simpson: well, moe... the grabbing a baby for the bow!(confidential) i did. it's your tongue...\n",
      "homer_simpson:(very accent) man, my last moron you've the world all the ticket. couldn't is my problem!(sotto sound)\n",
      "moe_szyslak: what the hell was that?(to brockman) what are you?\n",
      "moe_szyslak: whoa, whoa, whoa, now guys, get here on a face for the sticking-place and uh, moe, this is just gonna buy a new pageant. and kind of nice for my ticket!\n",
      "\n",
      "\n",
      "homer_simpson:(loud) man, i gotta go back with the following...(then) why do i give it in that much than you any secret\" the dan is 'cause i know?\n",
      "moe_szyslak: i'm sorry, homer. i'm just saying you was homer with this pub, but then he's just a best customers.\n",
      "carl_carlson:(drunk guy) mr. : homer's people time that means you hear.\n",
      "homer_simpson:(to duff jailbird) that's homer. my name is not an appointment.\n",
      "moe_szyslak: oh, you know, i have it somethin'?\n",
      "moe_szyslak: yeah, that's sweet. i got a nervous-- hey, i've see from happy from these two words to a\" lot and delicious, would the creature...(first laugh)\n",
      "moe_szyslak:(sigh) i can think she might don't get it?\n",
      "lenny_leonard: the name is buy me another whispered / / / / long about tonight.\n",
      "moe_szyslak: you know what it was... that's i'll do it.\n",
      "homer_simpson: i'm sorry about the face, moe?\n",
      "moe_szyslak: eh, you got that the way to get here.\n",
      "homer_simpson: you know, i see you was a cash holiday / 'cause frankly, homer's more more\" on the face. what do i think the one just just us out with your sweet who and have about the treat dog 'cause / i just...\n",
      "moe_szyslak:(serious) oh, there is the ball. i can't made a car who get too idea for the most cruel was good by...(sobs)\n",
      "\n",
      "\n",
      "moe_szyslak: and i tell the cover and did was still like business?(gasp) somebody spilled beer in this one stuff to save good.\n",
      "waylon_smithers: he's anything!\n",
      "moe_szyslak:(small tape) okay. you are a problem?\n",
      "\n",
      "\n",
      "moe_szyslak:... who is it to do to do to drive\n"
     ]
    }
   ],
   "source": [
    "gen_length = 500\n",
    "# homer_simpson, moe_szyslak, or Barney_Gumble\n",
    "prime_word = 'moe_szyslak'\n",
    "\n",
    "\"\"\"\n",
    "DON'T MODIFY ANYTHING IN THIS CELL THAT IS BELOW THIS LINE\n",
    "\"\"\"\n",
    "loaded_graph = tf.Graph()\n",
    "with tf.Session(graph=loaded_graph) as sess:\n",
    "    # Load saved model\n",
    "    loader = tf.train.import_meta_graph(load_dir + '.meta')\n",
    "    loader.restore(sess, load_dir)\n",
    "\n",
    "    # Get Tensors from loaded model\n",
    "    input_text, initial_state, final_state, probs = get_tensors(loaded_graph)\n",
    "\n",
    "    # Sentences generation setup\n",
    "    gen_sentences = [prime_word + ':']\n",
    "    prev_state = sess.run(initial_state, {input_text: np.array([[1]])})\n",
    "\n",
    "    # Generate sentences\n",
    "    for n in range(gen_length):\n",
    "        # Dynamic Input\n",
    "        dyn_input = [[vocab_to_int[word] for word in gen_sentences[-seq_length:]]]\n",
    "        dyn_seq_length = len(dyn_input[0])\n",
    "\n",
    "        # Get Prediction\n",
    "        probabilities, prev_state = sess.run(\n",
    "            [probs, final_state],\n",
    "            {input_text: dyn_input, initial_state: prev_state})\n",
    "        \n",
    "        pred_word = pick_word(probabilities[dyn_seq_length-1], int_to_vocab)\n",
    "\n",
    "        gen_sentences.append(pred_word)\n",
    "    \n",
    "    # Remove tokens\n",
    "    tv_script = ' '.join(gen_sentences)\n",
    "    for key, token in token_dict.items():\n",
    "        ending = ' ' if key in ['\\n', '(', '\"'] else ''\n",
    "        tv_script = tv_script.replace(' ' + token.lower(), key)\n",
    "    tv_script = tv_script.replace('\\n ', '\\n')\n",
    "    tv_script = tv_script.replace('( ', '(')\n",
    "        \n",
    "    print(tv_script)"
   ]
  },
  {
   "cell_type": "markdown",
   "metadata": {
    "deletable": true,
    "editable": true
   },
   "source": [
    "# The TV Script is Nonsensical\n",
    "It's ok if the TV script doesn't make any sense.  We trained on less than a megabyte of text.  In order to get good results, you'll have to use a smaller vocabulary or get more data.  Luckly there's more data!  As we mentioned in the begging of this project, this is a subset of [another dataset](https://www.kaggle.com/wcukierski/the-simpsons-by-the-data).  We didn't have you train on all the data, because that would take too long.  However, you are free to train your neural network on all the data.  After you complete the project, of course.\n",
    "# Submitting This Project\n",
    "When submitting this project, make sure to run all the cells before saving the notebook. Save the notebook file as \"dlnd_tv_script_generation.ipynb\" and save it as a HTML file under \"File\" -> \"Download as\". Include the \"helper.py\" and \"problem_unittests.py\" files in your submission."
   ]
  }
 ],
 "metadata": {
  "anaconda-cloud": {},
  "kernelspec": {
   "display_name": "Python [conda root]",
   "language": "python",
   "name": "conda-root-py"
  },
  "language_info": {
   "codemirror_mode": {
    "name": "ipython",
    "version": 2
   },
   "file_extension": ".py",
   "mimetype": "text/x-python",
   "name": "python",
   "nbconvert_exporter": "python",
   "pygments_lexer": "ipython2",
   "version": "2.7.13"
  }
 },
 "nbformat": 4,
 "nbformat_minor": 0
}
